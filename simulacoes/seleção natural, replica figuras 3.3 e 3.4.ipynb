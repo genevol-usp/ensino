{
 "cells": [
  {
   "cell_type": "code",
   "execution_count": 4,
   "metadata": {
    "collapsed": true
   },
   "outputs": [],
   "source": [
    "%matplotlib inline"
   ]
  },
  {
   "cell_type": "code",
   "execution_count": 34,
   "metadata": {
    "collapsed": false
   },
   "outputs": [
    {
     "data": {
      "text/plain": [
       "<function __main__.direcional>"
      ]
     },
     "execution_count": 34,
     "metadata": {},
     "output_type": "execute_result"
    },
    {
     "data": {
      "image/png": "[encoded data removed]",
      "text/plain": [
       "<matplotlib.figure.Figure at 0x1ddf0b61d30>"
      ]
     },
     "metadata": {},
     "output_type": "display_data"
    }
   ],
   "source": [
    "import numpy as np\n",
    "import matplotlib.pyplot as plt\n",
    "\n",
    "from ipywidgets import interact\n",
    "import ipywidgets as widgets\n",
    "\n",
    "\n",
    "\n",
    "\n",
    "def direcional(p,s,h):\n",
    "    frequencia = [p]\n",
    "    delta_p = []\n",
    "    p_range = []\n",
    "    \n",
    "    i=0\n",
    "    while (i<100) :\n",
    "        \n",
    "        p += ( (  p*(1-p)*s * (p*h +(1-p)*(1-h) )) / (1- 2*p*(1-p)*h*s - (1-p)*(1-p)*s  ) )\n",
    "        frequencia.append(p)\n",
    "        \n",
    "        i +=1\n",
    " \n",
    "    for j in range(0 , 1000, 1):\n",
    "        p = j/1000\n",
    "        p_range.append(p)\n",
    "        delta_p.append(( p*(1-p)*s * (p*h +(1-p)*(1-h) )) / (1- 2*p*(1-p)*h*s - (1-p)*(1-p)*s ) )\n",
    "\n",
    "    #comentar e descomentar para poder ver os outros graficos!\n",
    "   \n",
    "    #plt.plot(range(len(frequencia)) , frequencia , label = \" P / Geração \"  )\n",
    "    plt.plot( p_range , delta_p , label = \" Delta_s P   / P \" )\n",
    "\n",
    "    #plt.xlim( [0, 1])#definir limites do grafico\n",
    "    #plt.ylim([0,1])#definir limites do grafico\n",
    "    plt.legend()\n",
    "    \n",
    "    return\n",
    "\n",
    "\n",
    "\n",
    "\n",
    "# Lembrar de alterar essa widget pra eu poder ter um maior controle dos valores que o slider pode assumir\n",
    "interact(direcional, p = 0.1, s = 0.1 , h = 0.5)\n"
   ]
  },
  {
   "cell_type": "code",
   "execution_count": null,
   "metadata": {
    "collapsed": true
   },
   "outputs": [],
   "source": []
  }
 ],
 "metadata": {
  "kernelspec": {
   "display_name": "Python 3",
   "language": "python",
   "name": "python3"
  },
  "language_info": {
   "codemirror_mode": {
    "name": "ipython",
    "version": 3
   },
   "file_extension": ".py",
   "mimetype": "text/x-python",
   "name": "python",
   "nbconvert_exporter": "python",
   "pygments_lexer": "ipython3",
   "version": "3.6.0"
  },
  "widgets": {
   "state": {
    "7232dc4813924fea8ef384c36e696ab0": {
     "views": [
      {
       "cell_index": 1
      }
     ]
    }
   },
   "version": "1.2.0"
  }
 },
 "nbformat": 4,
 "nbformat_minor": 2
}
