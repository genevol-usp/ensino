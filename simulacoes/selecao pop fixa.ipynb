{
 "cells": [
  {
   "cell_type": "code",
   "execution_count": 11,
   "metadata": {
    "collapsed": true
   },
   "outputs": [],
   "source": [
    "%matplotlib inline\n",
    "\n",
    "import numpy as np\n",
    "import matplotlib.pyplot as plt\n",
    "import random\n",
    "import statistics\n",
    "\n",
    "from ipywidgets import interact\n",
    "import ipywidgets as widgets"
   ]
  },
  {
   "cell_type": "code",
   "execution_count": 73,
   "metadata": {
    "collapsed": false
   },
   "outputs": [],
   "source": [
    "\n",
    "def agrupa_genotipo(pop,N):\n",
    "    random.shuffle(pop)\n",
    "    pop_novo = []\n",
    "    \n",
    "    pop_novo.append( pop[0] + pop[1] )\n",
    "    i=1\n",
    "    while i < N :\n",
    "        \n",
    "        pop_novo.append( pop[i*2] + pop[(i*2) + 1]  )\n",
    "        \n",
    "        i+=1\n",
    "    \n",
    "    return pop_novo\n",
    "\n",
    "\n",
    "def cria_pesos(pop,w1,w2,w3):\n",
    "    pop = sorted(pop)\n",
    "    pesos= []\n",
    "    \n",
    "    for i in range(len(pop)):\n",
    "        if pop[i] == 0:\n",
    "            pop[i] = 0\n",
    "            pesos.append(w1)\n",
    "            \n",
    "        elif pop[i] == 1:#sorteia qual gene o ser heterozigoto passa para proxima geracao\n",
    "            chance = random.randint(1,100)\n",
    "            if chance <= 50:\n",
    "                pop[i] = 0\n",
    "                pesos.append(w1)\n",
    "            else:\n",
    "                pop[i] = 1\n",
    "                pesos.append(w2)\n",
    "                \n",
    "        elif pop[i] == 2:\n",
    "            pop[i] = 1\n",
    "            pesos.append(w3)\n",
    "        \n",
    "    return pop , pesos\n",
    "            \n",
    "\n",
    "def calc_freq(pop,N):\n",
    "    cont=0\n",
    "    for i in range(len(pop)):\n",
    "        cont += pop[i]\n",
    "        \n",
    "    return cont / (2*N)\n",
    "        \n",
    "    \n",
    "\n"
   ]
  },
  {
   "cell_type": "code",
   "execution_count": 107,
   "metadata": {
    "collapsed": true
   },
   "outputs": [],
   "source": [
    "\n",
    "def main(N,G,p0,w1,w2,w3):\n",
    "    pop =[]\n",
    "    freq = []\n",
    "\n",
    "    populacao=[]\n",
    "\n",
    "    for i in range(2*N): #cria primeira populacao aleatoria\n",
    "        if i < (p0*2*N):\n",
    "            pop.append(1)\n",
    "        else:\n",
    "            pop.append(0)\n",
    "\n",
    "\n",
    "    pop = agrupa_genotipo(pop,N)\n",
    "\n",
    "    for i in range(G):\n",
    "\n",
    "        pop, pesos = cria_pesos(pop,w1,w2,w3)\n",
    "        \n",
    "    \n",
    "\n",
    "        populacao.append(pop)# ter vetor de tamanho G\n",
    "\n",
    "        pop = random.choices(pop, weights = pesos, k = 2*N)\n",
    "    \n",
    "\n",
    "        pop = agrupa_genotipo(pop,N)\n",
    "        \n",
    "    \n",
    "\n",
    "\n",
    "    for i in range(len(populacao)): \n",
    "\n",
    "        freq.append( calc_freq(populacao[i], N) )\n",
    "\n",
    "\n",
    "\n",
    "    plt.plot( range(len(freq)) , freq , label = \" Frequencia \" )\n",
    "    #plt.scatter( range(len(freq)) , freq)\n",
    "\n",
    "    plt.xlim( [0, 100])#definir limites do grafico\n",
    "    plt.ylim([0,0.12])#definir limites do grafico\n",
    "    plt.legend()    \n",
    "    plt.show\n",
    "\n",
    "\n",
    "\n",
    "    \n",
    "\n",
    "\n"
   ]
  },
  {
   "cell_type": "code",
   "execution_count": 109,
   "metadata": {
    "collapsed": false
   },
   "outputs": [
    {
     "data": {
      "image/png": "[encoded data removed]",
      "text/plain": [
       "<matplotlib.figure.Figure at 0x1f81372a3c8>"
      ]
     },
     "metadata": {},
     "output_type": "display_data"
    }
   ],
   "source": [
    "\n",
    "N = 1000\n",
    "G = 100\n",
    "p0 = 0.1 \n",
    "\n",
    "w1 = 1\n",
    "w2 = 0.95\n",
    "w3 = 0.9\n",
    "\n",
    "\n",
    "main(N,G,p0,w1,w2,w3)"
   ]
  },
  {
   "cell_type": "code",
   "execution_count": null,
   "metadata": {
    "collapsed": true
   },
   "outputs": [],
   "source": []
  },
  {
   "cell_type": "code",
   "execution_count": null,
   "metadata": {
    "collapsed": true
   },
   "outputs": [],
   "source": []
  },
  {
   "cell_type": "code",
   "execution_count": null,
   "metadata": {
    "collapsed": true
   },
   "outputs": [],
   "source": []
  }
 ],
 "metadata": {
  "kernelspec": {
   "display_name": "Python 3",
   "language": "python",
   "name": "python3"
  },
  "language_info": {
   "codemirror_mode": {
    "name": "ipython",
    "version": 3
   },
   "file_extension": ".py",
   "mimetype": "text/x-python",
   "name": "python",
   "nbconvert_exporter": "python",
   "pygments_lexer": "ipython3",
   "version": "3.6.0"
  }
 },
 "nbformat": 4,
 "nbformat_minor": 2
}
