{
 "cells": [
  {
   "cell_type": "code",
   "execution_count": 1,
   "metadata": {
    "collapsed": true
   },
   "outputs": [],
   "source": [
    "%matplotlib inline\n",
    "\n",
    "import numpy as np\n",
    "import matplotlib.pyplot as plt\n",
    "import random\n",
    "import statistics\n",
    "\n",
    "from ipywidgets import interact\n",
    "import ipywidgets as widgets"
   ]
  },
  {
   "cell_type": "code",
   "execution_count": 47,
   "metadata": {
    "collapsed": false
   },
   "outputs": [
    {
     "data": {
      "text/plain": [
       "<function matplotlib.pyplot.show>"
      ]
     },
     "execution_count": 47,
     "metadata": {},
     "output_type": "execute_result"
    },
    {
     "data": {
      "image/png": "[encoded data removed]",
      "text/plain": [
       "<matplotlib.figure.Figure at 0x23ae2272eb8>"
      ]
     },
     "metadata": {},
     "output_type": "display_data"
    }
   ],
   "source": [
    "\n",
    "\n",
    "N=[10,100,1000] #,10000]#,100000]\n",
    "\n",
    "S = list(range(-10000,10000,1))\n",
    "\n",
    "for i in range(len(S)):\n",
    "    S[i] = S[i]/100000\n",
    "    \n",
    "\n",
    "\n",
    "probs =[]\n",
    "pi1 =[]\n",
    "\n",
    "for n in N:\n",
    "    \n",
    "    for s in S:\n",
    "        if s!=0:\n",
    "            pi1.append(   ( 1 - np.e**(-s) )  /  (1 - np.e**(-2*n*s))   )\n",
    "#################  trocar, fiz esse migue pq n pode dividir por zero, precisa calcular o limite L'Hopitando  #################\n",
    "        elif s==0: \n",
    "            pi1.append(pi1[-1])\n",
    "\n",
    "##############################################################################################################################     \n",
    "    probs.append(pi1)\n",
    "    pi1 = []\n",
    "    \n",
    "    \n",
    "for i in range(len(N)):\n",
    "    legenda= \"N = \" + str(N[i])\n",
    "    plt.plot( S , probs[i] ,label = legenda )\n",
    "\n",
    "    \n",
    "\n",
    "#plt.xlim( [0, 100])#definir limites do grafico\n",
    "#plt.ylim([0,1])#definir limites do grafico\n",
    "plt.legend()\n",
    "plt.show\n",
    "\n",
    "    \n",
    "    \n",
    "    \n",
    "    \n",
    "    \n",
    "    \n",
    "    \n",
    "    \n",
    "    \n",
    "    \n",
    "    \n",
    "    \n",
    "    \n",
    "    \n",
    "    \n",
    "    "
   ]
  }
 ],
 "metadata": {
  "hide_input": false,
  "kernelspec": {
   "display_name": "Python 3",
   "language": "python",
   "name": "python3"
  },
  "language_info": {
   "codemirror_mode": {
    "name": "ipython",
    "version": 3
   },
   "file_extension": ".py",
   "mimetype": "text/x-python",
   "name": "python",
   "nbconvert_exporter": "python",
   "pygments_lexer": "ipython3",
   "version": "3.6.0"
  },
  "latex_envs": {
   "LaTeX_envs_menu_present": true,
   "autocomplete": true,
   "bibliofile": "biblio.bib",
   "cite_by": "apalike",
   "current_citInitial": 1,
   "eqLabelWithNumbers": true,
   "eqNumInitial": 1,
   "hotkeys": {
    "equation": "Ctrl-E",
    "itemize": "Ctrl-I"
   },
   "labels_anchors": false,
   "latex_user_defs": false,
   "report_style_numbering": false,
   "user_envs_cfg": false
  },
  "toc": {
   "nav_menu": {},
   "number_sections": true,
   "sideBar": true,
   "skip_h1_title": false,
   "toc_cell": false,
   "toc_position": {},
   "toc_section_display": "block",
   "toc_window_display": false
  }
 },
 "nbformat": 4,
 "nbformat_minor": 2
}
